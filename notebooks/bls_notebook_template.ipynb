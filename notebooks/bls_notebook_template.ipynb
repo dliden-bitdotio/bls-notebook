{
 "cells": [
  {
   "cell_type": "code",
   "execution_count": null,
   "metadata": {},
   "outputs": [],
   "source": [
    "from IPython.display import Markdown as md\n",
    "import datetime\n",
    "import pandas as pd\n",
    "from dotenv import load_dotenv\n",
    "import os\n",
    "import sys\n",
    "sys.path.append(\"../\")\n",
    "from src.upload_download_bitdotio import download_dataset\n",
    "from src.bls_query import get_recessions_fred, monthly_national_sub\n",
    "from src.plots import labor_turnover_rates\n",
    "\n",
    "load_dotenv()\n",
    "PG_STRING = os.getenv(\"BITIO_PG_STRING\")\n",
    "FRED_KEY = os.getenv(\"FRED_API_KEY\")\n",
    "BITIO_REPO = f'{os.environ.get(\"BITIO_REPO\")}'"
   ]
  },
  {
   "cell_type": "code",
   "execution_count": null,
   "metadata": {},
   "outputs": [],
   "source": [
    "md(\"Last Updated: {}\".format(datetime.datetime.now().strftime(\"%Y-%m-%d\")))"
   ]
  },
  {
   "cell_type": "markdown",
   "metadata": {},
   "source": [
    "# Bureau of Labor Statistics (BLS) Quit Rate Data\n",
    "\n",
    "This notebook includes some exploratory figures about the Bureau of Labor Statistics (BLS) quit rate data from the [Job Openings and Labor Turnover Survey](https://www.bls.gov/jlt/#data). The notebook is automatically updated weekly, though manual updates can be executed as needed."
   ]
  },
  {
   "cell_type": "code",
   "execution_count": null,
   "metadata": {},
   "outputs": [],
   "source": [
    "# get data\n",
    "recessions = get_recessions_fred(FRED_KEY, end_date=pd.to_datetime(\"today\").strftime(\"%Y-%m-%d\"))\n",
    "quits = monthly_national_sub(download_dataset(f'\"{BITIO_REPO}\".\"quit_rate\"', PG_STRING))\n",
    "layoffs = monthly_national_sub(download_dataset(f'\"{BITIO_REPO}\".\"layoffs_discharges_rate\"', PG_STRING))\n",
    "openings = monthly_national_sub(download_dataset(f'\"{BITIO_REPO}\".\"job_openings_rate\"', PG_STRING))"
   ]
  },
  {
   "cell_type": "code",
   "execution_count": null,
   "metadata": {},
   "outputs": [],
   "source": [
    "# plot\n",
    "labor_turnover_rates(layoffs, quits, openings, recessions)"
   ]
  }
 ],
 "metadata": {
  "interpreter": {
   "hash": "597af106cf430677a84c9517b07dd48fb8609f26401852b95ac2715f4221bc14"
  },
  "kernelspec": {
   "display_name": "Python 3.9.7 64-bit ('env': venv)",
   "language": "python",
   "name": "python3"
  },
  "language_info": {
   "codemirror_mode": {
    "name": "ipython",
    "version": 3
   },
   "file_extension": ".py",
   "mimetype": "text/x-python",
   "name": "python",
   "nbconvert_exporter": "python",
   "pygments_lexer": "ipython3",
   "version": "3.9.10"
  },
  "orig_nbformat": 4
 },
 "nbformat": 4,
 "nbformat_minor": 2
}
